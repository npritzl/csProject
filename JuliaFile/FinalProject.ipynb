{
 "cells": [
  {
   "cell_type": "markdown",
   "metadata": {},
   "source": [
    "# Project Title\n",
    "**Logan Colla (lcolla@wisc.edu), Nate Pritzl (npritzl@wisc.edu)**\n",
    "\n",
    "#### Table of Contents\n",
    "1. [Introduction](#1.-Introduction)\n",
    "2. [Mathematical Model](#2.-Mathematical-model)\n",
    "3. [Solution](#3.-Solution)\n",
    "4. [Results and Discussion](#4.-Results-and-discussion)\n",
    "5. [Conclusion](#5.-Conclusion)"
   ]
  },
  {
   "cell_type": "markdown",
   "metadata": {},
   "source": [
    "## 1. Introduction"
   ]
  },
  {
   "cell_type": "markdown",
   "metadata": {},
   "source": [
    "## 2. Mathematical Model"
   ]
  },
  {
   "cell_type": "markdown",
   "metadata": {},
   "source": [
    "## 3. Solution"
   ]
  },
  {
   "cell_type": "code",
   "execution_count": 83,
   "metadata": {
    "collapsed": false
   },
   "outputs": [],
   "source": [
    "using DataFrames\n",
    "raw = DataFrame(readtable(\"csprojectdata.csv\", header = true))\n",
    "\n",
    "week = 12\n",
    "\n",
    "if week==3\n",
    "    week = week+1\n",
    "elseif week == 12 || week == 13\n",
    "    week = week-1\n",
    "elseif week == 15\n",
    "    week = week-2\n",
    "elseif week == 5 || week == 6 || week == 7 || week == 8 || week == 9 || week == 10\n",
    "    week = week\n",
    "else\n",
    "    println(\"Invalid Week\")\n",
    "end\n",
    "df = raw[:,[1:3;week;week+10;week+20]];"
   ]
  },
  {
   "cell_type": "code",
   "execution_count": 82,
   "metadata": {
    "collapsed": false
   },
   "outputs": [
    {
     "name": "stdout",
     "output_type": "stream",
     "text": [
      "Blake Bortles\n",
      "Darren McFadden\n",
      "Jason Witten\n",
      "DeAndre Hopkins\n",
      "Nate Washington\n"
     ]
    }
   ],
   "source": [
    "using JuMP\n",
    "\n",
    "N = size(raw)[1]\n",
    "salaryCap = 35000\n",
    "QBlimit = 1\n",
    "RBlimit = 2\n",
    "WRlimit = 2\n",
    "TElimit = 1\n",
    "\n",
    "m = Model()\n",
    "@defVar(m, p[1:N], Bin)\n",
    "@addConstraint(m, sum{p[i]*df[i,6], i=1:N} <= salaryCap)\n",
    "@addConstraint(m, sum{p[i], i = 1:23} == QBlimit)\n",
    "@addConstraint(m, sum{p[i], i = 24:63} == RBlimit)\n",
    "@addConstraint(m, sum{p[i], i = 64:86} == TElimit)\n",
    "@addConstraint(m, sum{p[i], i = 87:127} == WRlimit)\n",
    "@setObjective(m, Max, sum{p[i]*df[i,4], i=1:N})\n",
    "solve(m)\n",
    "\n",
    "xopt=getValue(p)\n",
    "for i = 1:N\n",
    "    if xopt[i]==1\n",
    "        println(df[i,:Player])\n",
    "    end\n",
    "end"
   ]
  },
  {
   "cell_type": "markdown",
   "metadata": {},
   "source": [
    "## 4. Results and Discussion"
   ]
  },
  {
   "cell_type": "markdown",
   "metadata": {},
   "source": [
    "## 5. Conclusion"
   ]
  },
  {
   "cell_type": "code",
   "execution_count": 59,
   "metadata": {
    "collapsed": false
   },
   "outputs": [
    {
     "ename": "LoadError",
     "evalue": "LoadError: MethodError: `which` has no method matching which(::Bool)\nClosest candidates are:\n  which(::ANY, !Matched::ANY)\nwhile loading In[59], in expression starting on line 1",
     "output_type": "error",
     "traceback": [
      "LoadError: MethodError: `which` has no method matching which(::Bool)\nClosest candidates are:\n  which(::ANY, !Matched::ANY)\nwhile loading In[59], in expression starting on line 1",
      ""
     ]
    }
   ],
   "source": [
    "which(df[:,:Proj_5]==0)"
   ]
  },
  {
   "cell_type": "code",
   "execution_count": null,
   "metadata": {
    "collapsed": true
   },
   "outputs": [],
   "source": []
  }
 ],
 "metadata": {
  "kernelspec": {
   "display_name": "Julia 0.4.3",
   "language": "julia",
   "name": "julia-0.4"
  },
  "language_info": {
   "file_extension": ".jl",
   "mimetype": "application/julia",
   "name": "julia",
   "version": "0.4.3"
  }
 },
 "nbformat": 4,
 "nbformat_minor": 0
}

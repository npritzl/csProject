{
 "cells": [
  {
   "cell_type": "markdown",
   "metadata": {},
   "source": [
    "# Fantasy Football - Choosing the Best Team\n",
    "**Logan Colla (lcolla@wisc.edu), Nate Pritzl (npritzl@wisc.edu)**\n",
    "\n",
    "### Table of Contents\n",
    "1. [Introduction](#1.-Introduction)\n",
    "2. [Mathematical Model](#2.-Mathematical-model)\n",
    "3. [Solution](#3.-Solution)\n",
    "4. [Results and Discussion](#4.-Results-and-discussion)\n",
    "5. [Conclusion](#5.-Conclusion)"
   ]
  },
  {
   "cell_type": "markdown",
   "metadata": {},
   "source": [
    "# 1. Introduction"
   ]
  },
  {
   "cell_type": "markdown",
   "metadata": {},
   "source": [
    "Gambling and fantasy sports has grown tremendously in popularity.  Our goal is to create an optimizer that increases the chances of winning.  Traditionally, this is done using player projections for the objective function, and constraints on salary and position.  However, player projections isn't the only thing that should be used in the objective.  Knowing what players your opponents picked can change the optimal roster and increase your chances of winning.  Player projections and owner percentage are unknowns, and therefore should be determined using regression.  We will use the least squares technique to determine these quantities if we have time.  The main focus of our project is determine the optimized roster given the player projections and owner percentage. Data for player projections and positions can be found on espn.com.  Player ownership percentage can be found on dfsreport.com.  Salary can be found on fandual.com."
   ]
  },
  {
   "cell_type": "markdown",
   "metadata": {},
   "source": [
    "# 2. Mathematical Model"
   ]
  },
  {
   "cell_type": "code",
   "execution_count": 19,
   "metadata": {
    "collapsed": false,
    "scrolled": true
   },
   "outputs": [
    {
     "ename": "LoadError",
     "evalue": "LoadError: syntax: \"\\\" is not a unary operator\nwhile loading In[19], in expression starting on line 3",
     "output_type": "error",
     "traceback": [
      "LoadError: syntax: \"\\\" is not a unary operator\nwhile loading In[19], in expression starting on line 3",
      ""
     ]
    }
   ],
   "source": [
    "using LaTeXStrings \n",
    "\n",
    "\\[x=\\frac{-b\\pm\\sqrt{b^2-4ac}}{2a}\\]"
   ]
  },
  {
   "cell_type": "markdown",
   "metadata": {},
   "source": [
    "# 3. Solution"
   ]
  },
  {
   "cell_type": "code",
   "execution_count": 25,
   "metadata": {
    "collapsed": false
   },
   "outputs": [
    {
     "data": {
      "text/html": [
       "<table class=\"data-frame\"><tr><th></th><th>Player</th><th>Position</th><th>Team</th><th>Proj_12</th><th>Own_12</th><th>Cost_12</th></tr><tr><th>1</th><td>Tom Brady</td><td>QB</td><td>NE</td><td>17.02</td><td>0.036</td><td>8000</td></tr><tr><th>2</th><td>Cam Newton</td><td>QB</td><td>CAR</td><td>18.64</td><td>0.015</td><td>7100</td></tr><tr><th>3</th><td>Ben Roethlisberger</td><td>QB</td><td>PIT</td><td>17.24</td><td>0.015</td><td>6700</td></tr><tr><th>4</th><td>Nick Foles</td><td>QB</td><td>LA</td><td>9.76</td><td>0.015</td><td>5000</td></tr><tr><th>5</th><td>Andrew Luck</td><td>QB</td><td>IND</td><td>0.0</td><td>0.132</td><td>2500</td></tr><tr><th>6</th><td>Marcus Mariota</td><td>QB</td><td>TEN</td><td>17.12</td><td>0.015</td><td>5500</td></tr><tr><th>7</th><td>Andy Dalton</td><td>QB</td><td>CIN</td><td>17.52</td><td>0.015</td><td>6100</td></tr><tr><th>8</th><td>Ryan Fitzpatrick</td><td>QB</td><td>NYJ</td><td>17.26</td><td>0.015</td><td>5000</td></tr><tr><th>9</th><td>Blake Bortles</td><td>QB</td><td>JAX</td><td>18.52</td><td>0.015</td><td>5900</td></tr><tr><th>10</th><td>Derek Carr</td><td>QB</td><td>OAK</td><td>17.48</td><td>0.015</td><td>6300</td></tr><tr><th>11</th><td>Matt Ryan</td><td>QB</td><td>ATL</td><td>17.8</td><td>0.045</td><td>6900</td></tr><tr><th>12</th><td>Philip Rivers</td><td>QB</td><td>SD</td><td>17.82</td><td>0.016</td><td>6700</td></tr><tr><th>13</th><td>Ryan Mallett</td><td>QB</td><td>HOU</td><td>0.0</td><td>0.015</td><td>2500</td></tr><tr><th>14</th><td>Brandon Weeden</td><td>QB</td><td>DAL</td><td>0.0</td><td>0.015</td><td>2500</td></tr><tr><th>15</th><td>Jameis Winston</td><td>QB</td><td>TB</td><td>16.68</td><td>0.015</td><td>5500</td></tr><tr><th>16</th><td>Joe Flacco</td><td>QB</td><td>BAL</td><td>0.0</td><td>0.015</td><td>2500</td></tr><tr><th>17</th><td>Sam Bradford</td><td>QB</td><td>PHI</td><td>0.0</td><td>0.015</td><td>2500</td></tr><tr><th>18</th><td>Teddy Bridgewater</td><td>QB</td><td>MIN</td><td>16.48</td><td>0.015</td><td>5000</td></tr><tr><th>19</th><td>Josh McCown</td><td>QB</td><td>CLE</td><td>17.46</td><td>0.07</td><td>5000</td></tr><tr><th>20</th><td>Luke McCown</td><td>QB</td><td>NO</td><td>0.0</td><td>0.015</td><td>2500</td></tr><tr><th>21</th><td>Johnny Manziel</td><td>QB</td><td>CLE</td><td>0.24</td><td>0.015</td><td>5100</td></tr><tr><th>22</th><td>Drew Brees</td><td>QB</td><td>NO</td><td>17.88</td><td>0.015</td><td>7300</td></tr><tr><th>23</th><td>Tony Romo</td><td>QB</td><td>DAL</td><td>16.78</td><td>0.038</td><td>5800</td></tr><tr><th>24</th><td>Adrian Peterson</td><td>RB</td><td>MIN</td><td>16.2</td><td>0.04</td><td>7300</td></tr><tr><th>25</th><td>Dion Lewis</td><td>RB</td><td>NE</td><td>0.0</td><td>0.04</td><td>3000</td></tr><tr><th>26</th><td>Le'Veon Bell</td><td>RB</td><td>PIT</td><td>0.0</td><td>0.04</td><td>3000</td></tr><tr><th>27</th><td>Latavius Murray</td><td>RB</td><td>OAK</td><td>14.6</td><td>0.04</td><td>5400</td></tr><tr><th>28</th><td>Danny Woodhead</td><td>RB</td><td>SD</td><td>6.4</td><td>0.04</td><td>5200</td></tr><tr><th>29</th><td>Darren Sproles</td><td>RB</td><td>PHI</td><td>4.6</td><td>0.04</td><td>3600</td></tr><tr><th>30</th><td>Devonta Freeman</td><td>RB</td><td>ATL</td><td>0.0</td><td>0.04</td><td>3000</td></tr><tr><th>&vellip;</th><td>&vellip;</td><td>&vellip;</td><td>&vellip;</td><td>&vellip;</td><td>&vellip;</td><td>&vellip;</td></tr></table>"
      ],
      "text/plain": [
       "127x6 DataFrames.DataFrame\n",
       "│ Row │ Player                 │ Position │ Team  │ Proj_12 │ Own_12 │ Cost_12 │\n",
       "┝━━━━━┿━━━━━━━━━━━━━━━━━━━━━━━━┿━━━━━━━━━━┿━━━━━━━┿━━━━━━━━━┿━━━━━━━━┿━━━━━━━━━┥\n",
       "│ 1   │ \"Tom Brady\"            │ \"QB\"     │ \"NE\"  │ 17.02   │ 0.036  │ 8000    │\n",
       "│ 2   │ \"Cam Newton\"           │ \"QB\"     │ \"CAR\" │ 18.64   │ 0.015  │ 7100    │\n",
       "│ 3   │ \"Ben Roethlisberger\"   │ \"QB\"     │ \"PIT\" │ 17.24   │ 0.015  │ 6700    │\n",
       "│ 4   │ \"Nick Foles\"           │ \"QB\"     │ \"LA\"  │ 9.76    │ 0.015  │ 5000    │\n",
       "│ 5   │ \"Andrew Luck\"          │ \"QB\"     │ \"IND\" │ 0.0     │ 0.132  │ 2500    │\n",
       "│ 6   │ \"Marcus Mariota\"       │ \"QB\"     │ \"TEN\" │ 17.12   │ 0.015  │ 5500    │\n",
       "│ 7   │ \"Andy Dalton\"          │ \"QB\"     │ \"CIN\" │ 17.52   │ 0.015  │ 6100    │\n",
       "│ 8   │ \"Ryan Fitzpatrick\"     │ \"QB\"     │ \"NYJ\" │ 17.26   │ 0.015  │ 5000    │\n",
       "│ 9   │ \"Blake Bortles\"        │ \"QB\"     │ \"JAX\" │ 18.52   │ 0.015  │ 5900    │\n",
       "│ 10  │ \"Derek Carr\"           │ \"QB\"     │ \"OAK\" │ 17.48   │ 0.015  │ 6300    │\n",
       "│ 11  │ \"Matt Ryan\"            │ \"QB\"     │ \"ATL\" │ 17.8    │ 0.045  │ 6900    │\n",
       "⋮\n",
       "│ 116 │ \"Andre Johnson\"        │ \"WR\"     │ \"IND\" │ 0.0     │ 0.064  │ 3800    │\n",
       "│ 117 │ \"Markus Wheaton\"       │ \"WR\"     │ \"PIT\" │ 0.0     │ 0.064  │ 3800    │\n",
       "│ 118 │ \"Eric Decker\"          │ \"WR\"     │ \"NYJ\" │ 12.7    │ 0.064  │ 5800    │\n",
       "│ 119 │ \"Charles Johnson\"      │ \"WR\"     │ \"MIN\" │ 0.0     │ 0.064  │ 3800    │\n",
       "│ 120 │ \"Harry Douglas\"        │ \"WR\"     │ \"TEN\" │ 0.0     │ 0.064  │ 3800    │\n",
       "│ 121 │ \"Malcom Floyd\"         │ \"WR\"     │ \"SD\"  │ 0.0     │ 0.064  │ 3800    │\n",
       "│ 122 │ \"Marques Colston\"      │ \"WR\"     │ \"NO\"  │ 0.0     │ 0.064  │ 3800    │\n",
       "│ 123 │ \"Nelson Agholor\"       │ \"WR\"     │ \"PHI\" │ 0.0     │ 0.064  │ 3800    │\n",
       "│ 124 │ \"Dorial Green-Beckham\" │ \"WR\"     │ \"TEN\" │ 0.0     │ 0.064  │ 3800    │\n",
       "│ 125 │ \"Andrew Hawkins\"       │ \"WR\"     │ \"CLE\" │ 0.0     │ 0.064  │ 3800    │\n",
       "│ 126 │ \"Brandin Cooks\"        │ \"WR\"     │ \"NO\"  │ 13.0    │ 0.064  │ 6400    │\n",
       "│ 127 │ \"Mohamed Sanu\"         │ \"WR\"     │ \"ATL\" │ 0.0     │ 0.064  │ 3800    │"
      ]
     },
     "execution_count": 25,
     "metadata": {},
     "output_type": "execute_result"
    }
   ],
   "source": [
    "using DataFrames\n",
    "raw = DataFrame(readtable(\"csprojectdata.csv\", header = true))\n",
    "\n",
    "week = 12\n",
    "\n",
    "if week==3\n",
    "    week = week+1\n",
    "elseif week == 12 || week == 13\n",
    "    week = week-1\n",
    "elseif week == 15\n",
    "    week = week-2\n",
    "elseif week == 5 || week == 6 || week == 7 || week == 8 || week == 9 || week == 10\n",
    "    week = week\n",
    "else\n",
    "    println(\"Invalid Week\")\n",
    "end\n",
    "df = raw[:,[1:3;week;week+10;week+20]]"
   ]
  },
  {
   "cell_type": "code",
   "execution_count": 24,
   "metadata": {
    "collapsed": false
   },
   "outputs": [
    {
     "name": "stdout",
     "output_type": "stream",
     "text": [
      "Blake Bortles\n",
      "Doug Martin\n",
      "Darren McFadden\n",
      "Jason Witten\n",
      "DeAndre Hopkins\n",
      "Nate Washington\n"
     ]
    }
   ],
   "source": [
    "using JuMP\n",
    "\n",
    "N = size(raw)[1]\n",
    "salaryCap = 35000\n",
    "QBlimit = 1\n",
    "RBlimit = 2\n",
    "WRlimit = 2\n",
    "TElimit = 1\n",
    "\n",
    "m = Model()\n",
    "@defVar(m, p[1:N], Bin)\n",
    "@addConstraint(m, sum{p[i]*df[i,6], i=1:N} <= salaryCap)\n",
    "@addConstraint(m, sum{p[i], i = 1:23} == QBlimit)\n",
    "@addConstraint(m, sum{p[i], i = 24:63} == RBlimit)\n",
    "@addConstraint(m, sum{p[i], i = 64:86} == TElimit)\n",
    "@addConstraint(m, sum{p[i], i = 87:127} == WRlimit)\n",
    "@setObjective(m, Max, sum{p[i]*df[i,4], i=1:N})\n",
    "solve(m)\n",
    "\n",
    "xopt=getValue(p)\n",
    "for i = 1:N\n",
    "    if xopt[i]==1\n",
    "        println(df[i,:Player])\n",
    "    end\n",
    "end"
   ]
  },
  {
   "cell_type": "markdown",
   "metadata": {},
   "source": [
    "# 4. Results and Discussion"
   ]
  },
  {
   "cell_type": "markdown",
   "metadata": {},
   "source": []
  },
  {
   "cell_type": "markdown",
   "metadata": {},
   "source": [
    "# 5. Conclusion"
   ]
  },
  {
   "cell_type": "markdown",
   "metadata": {
    "collapsed": false
   },
   "source": [
    "\n"
   ]
  },
  {
   "cell_type": "code",
   "execution_count": null,
   "metadata": {
    "collapsed": true
   },
   "outputs": [],
   "source": []
  }
 ],
 "metadata": {
  "kernelspec": {
   "display_name": "Julia 0.4.3",
   "language": "julia",
   "name": "julia-0.4"
  },
  "language_info": {
   "file_extension": ".jl",
   "mimetype": "application/julia",
   "name": "julia",
   "version": "0.4.3"
  }
 },
 "nbformat": 4,
 "nbformat_minor": 0
}
